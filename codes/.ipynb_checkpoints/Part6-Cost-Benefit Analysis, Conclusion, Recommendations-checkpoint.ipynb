{
 "cells": [
  {
   "cell_type": "markdown",
   "metadata": {},
   "source": [
    "<img src=\"http://imgur.com/1ZcRyrc.png\" style=\"float: left; margin: 20px; height: 100px\">\n",
    "\n",
    "# Project 4a: Predict West Nile Virus\n",
    "\n",
    "## Part 6 - Cost Benefit Analysis, Conclusion, Recommendations"
   ]
  },
  {
   "cell_type": "markdown",
   "metadata": {},
   "source": [
    "### Contents:\n",
    "- [Cost-Benefit Analysis](#Cost-Benefit-Analysis)\n",
    "- [Conclusion](#Conclusion)\n",
    "- [Recommendations](#Recommendations)"
   ]
  },
  {
   "cell_type": "markdown",
   "metadata": {},
   "source": [
    "## Cost-Benefit Analysis"
   ]
  },
  {
   "cell_type": "markdown",
   "metadata": {},
   "source": [
    "### Cost projections"
   ]
  },
  {
   "cell_type": "markdown",
   "metadata": {},
   "source": [
    "#### Cost to spray the whole Chicago with spray trucks"
   ]
  },
  {
   "cell_type": "markdown",
   "metadata": {},
   "source": [
    "The Chicago Department of Public Health (CDPH) is continuing its efforts to protect residents against West Nile virus. The spray is done at dusk 8pm all through to approximately 1am (5hours). The pesticide used for spraying to control the mosquitoes is Zenivex E4. [(City of Chicago)](https://www.chicago.gov/city/en/depts/cdph/provdrs/healthy_communities/news/2020/august/city-to-spray-insecticide-thursday-to-kill-mosquitoes0.html) Zenivex E4 has a 4% solution of etofenprox that does not contain piperonyl butoxide, which presents minimal risk to humans and non-target species.[(CMMCP)](https://www.cmmcp.org/pesticide-information/pages/zenivex-e4-etofenprox) The price of Zenivex E4 is USD 0.92 per acre, which is USD 227.24 per square kilometer. [(Zenivex Pricing Brochure)](http://www.centralmosquitocontrol.com/-/media/files/centralmosquitocontrol-na/us/resources-lit%20files/2015%20zenivex%20pricing%20brochure.pdf) "
   ]
  },
  {
   "cell_type": "markdown",
   "metadata": {},
   "source": [
    "Without the prediction model, to prevent West Nile Virus in the whole Chicago with an area of 149770.57 acres (606.10 square kilometer), it would cost approximately USD 137,730.16 each time. Each year, it is advised not to spray more than 25 times per site. [(Zenivex)](https://www.mercercounty.org/home/showdocument?id=2626#:~:text=Do%20not%20spray%20more%20than,applications%20per%20site%20per%20year.) Depending on the weather and environmental conditions, mosquito treatment can last up to 30 days.[(NorthWest)](https://www.callnorthwest.com/2019/05/how-long-does-a-mosquito-treatment-last/)"
   ]
  },
  {
   "cell_type": "markdown",
   "metadata": {},
   "source": [
    "##### From the EDA map we obtained in Part 2, we estimated that half of Chicago (303.05 square kilometer) is having a severe positive West Nile Virus Cases, whereas the other half (303.05 square kilometer) not severe at all. \n",
    "\n",
    "##### At the severe places, we plan to spray twice per month across the 5 months. Wherea the not severe places, we plan to spray once per month across the most severe 3 months (excluding May and October)."
   ]
  },
  {
   "cell_type": "code",
   "execution_count": 8,
   "metadata": {},
   "outputs": [
    {
     "data": {
      "text/plain": [
       "895246.0660000001"
      ]
     },
     "execution_count": 8,
     "metadata": {},
     "output_type": "execute_result"
    }
   ],
   "source": [
    "# Cost to spray whole Chicago\n",
    "(227.24 * 303.05 * 10) + (227.24 * 303.05 * 3)"
   ]
  },
  {
   "cell_type": "code",
   "execution_count": 10,
   "metadata": {},
   "outputs": [
    {
     "data": {
      "text/plain": [
       "0.33157261703703705"
      ]
     },
     "execution_count": 10,
     "metadata": {},
     "output_type": "execute_result"
    }
   ],
   "source": [
    "# Cost per population\n",
    "895246.066 / 2_700_000"
   ]
  },
  {
   "cell_type": "markdown",
   "metadata": {},
   "source": [
    "### Benefit projections"
   ]
  },
  {
   "cell_type": "markdown",
   "metadata": {},
   "source": [
    "Benefits from mosquito spraying would include increased quality of life from fewer people falling sick and dying, increased workplace productivity from fewer people falling ill and going on medical leave, as well as savings in hospital expenses from treating WNV patients. Of these, only the latter two are measurable.\n",
    "\n",
    "About 1 in 5 people infected with WNV develop West Nile fever with other symptoms such as headache, body aches, joint pains, vomiting, etc. Recovery from West Nile fever takes from a few days to several weeks, and prolonged fatigue is common (Peterson, 2019).\n",
    "\n",
    "About 1 in 150 people infected develop severe neuroinvasive diseases such as encephalitis or meningitis, in which the virus travels through the blood and infects the brain and spinal cord. Recovery is prolonged and less than 40% of patients with the severe diseases recover after one year (Peterson, 2019).\n",
    "\n",
    "Given that the median household income in Chicago was \\$55,295 (as of 2017; [Data USA](https://datausa.io/profile/geo/chicago-il/)), one can estimate the amount of losses the city will face from an incapacitated workforce. In 2017, there were 90 WNV cases, including 8 deaths ([CBS Chicago, 2019](https://chicago.cbslocal.com/2018/08/29/west-nile-virus-death-reported-in-illinois/)). This means that approximately 18 people developed West Nile fever. Assuming all were working adults and each took two weeks off work to recover, this would have resulted in a total income loss of \\\\$19,353. On average, each WNV patient spends approximately \\$25,000 in the hospital. Therefore the total monetary loss caused by WNV in 2017 is approximately **$488,176.**"
   ]
  },
  {
   "cell_type": "markdown",
   "metadata": {},
   "source": [
    "### Cost-Benefit Summary"
   ]
  },
  {
   "cell_type": "markdown",
   "metadata": {},
   "source": [
    "By comparing the monetary values of costs and benefit, it is said that the monetary values of costs is more than benefits. However, if calcualte the cost per population, it only takes USD 0.33 per person annually, which is a relatively small amount of money."
   ]
  },
  {
   "cell_type": "markdown",
   "metadata": {},
   "source": [
    "Aside from that, if there is an outbreak of virus and nothing is done to contain it, people would be suffering from mental helath illness. Additionally, there would be a higher number of deaths, as there is no specific medications to treat West Nile Virus."
   ]
  },
  {
   "cell_type": "markdown",
   "metadata": {},
   "source": [
    "Therefore, we conclude that the spraying is necessary to keep the citizens safe."
   ]
  },
  {
   "cell_type": "markdown",
   "metadata": {},
   "source": [
    "## Conclusion"
   ]
  },
  {
   "cell_type": "code",
   "execution_count": null,
   "metadata": {},
   "outputs": [],
   "source": []
  },
  {
   "cell_type": "markdown",
   "metadata": {},
   "source": [
    "## Recommendations"
   ]
  },
  {
   "cell_type": "code",
   "execution_count": null,
   "metadata": {},
   "outputs": [],
   "source": []
  }
 ],
 "metadata": {
  "kernelspec": {
   "display_name": "Python 3",
   "language": "python",
   "name": "python3"
  },
  "language_info": {
   "codemirror_mode": {
    "name": "ipython",
    "version": 3
   },
   "file_extension": ".py",
   "mimetype": "text/x-python",
   "name": "python",
   "nbconvert_exporter": "python",
   "pygments_lexer": "ipython3",
   "version": "3.8.5"
  }
 },
 "nbformat": 4,
 "nbformat_minor": 4
}
